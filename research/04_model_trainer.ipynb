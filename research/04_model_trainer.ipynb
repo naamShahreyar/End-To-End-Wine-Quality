{
 "cells": [
  {
   "cell_type": "code",
   "execution_count": 1,
   "metadata": {},
   "outputs": [],
   "source": [
    "import os"
   ]
  },
  {
   "cell_type": "code",
   "execution_count": 2,
   "metadata": {},
   "outputs": [],
   "source": [
    "os.chdir('../')"
   ]
  },
  {
   "cell_type": "code",
   "execution_count": 3,
   "metadata": {},
   "outputs": [
    {
     "data": {
      "text/plain": [
       "'/home/cloudcraftz/End-To-End-Wine-Quality'"
      ]
     },
     "execution_count": 3,
     "metadata": {},
     "output_type": "execute_result"
    }
   ],
   "source": [
    "pwd"
   ]
  },
  {
   "cell_type": "code",
   "execution_count": 4,
   "metadata": {},
   "outputs": [],
   "source": [
    "from dataclasses import dataclass\n",
    "from pathlib import Path\n",
    "\n",
    "\n",
    "@dataclass(frozen=True)\n",
    "class ModelTrainerConfig():\n",
    "    root_dir: Path\n",
    "    model_name: str\n",
    "    params_grid: dict\n",
    "    train_data_path: Path\n",
    "    model_save_dir: Path\n",
    "    target_column: str"
   ]
  },
  {
   "cell_type": "code",
   "execution_count": 5,
   "metadata": {},
   "outputs": [],
   "source": [
    "from WineQuality.constants import *\n",
    "from WineQuality.utils.common import read_yaml, create_directories"
   ]
  },
  {
   "cell_type": "code",
   "execution_count": 6,
   "metadata": {},
   "outputs": [],
   "source": [
    "class ConfigurationManager:\n",
    "    \n",
    "    def __init__(self,config_filepath = CONFIG_FILE_PATH,params_filepath = PARAMS_FILE_PATH,schema_filepath = SCHEMA_FILE_PATH):\n",
    "        \n",
    "        \n",
    "        self.config = read_yaml(config_filepath)\n",
    "        self.params = read_yaml(params_filepath)\n",
    "        self.schema = read_yaml(schema_filepath)\n",
    "\n",
    "        create_directories([self.config.artifacts_root])\n",
    "\n",
    "    def get_model_trainer_configs(self) -> list[ModelTrainerConfig]:\n",
    "\n",
    "        config = self.config.model_trainer\n",
    "        params = self.params\n",
    "        schema = self.schema.TARGET_COLUMN\n",
    "\n",
    "        create_directories([config.root_dir])\n",
    "\n",
    "        model_trainer_configs =[]\n",
    "\n",
    "        for model_name, params_grid in params.items():\n",
    "            model_trainer_config = ModelTrainerConfig(\n",
    "                root_dir= config.root_dir,\n",
    "                model_name= model_name,\n",
    "                params_grid= params_grid,\n",
    "                train_data_path= config.train_data_path,\n",
    "                model_save_dir= config.model_save_dir,\n",
    "                target_column= schema.name\n",
    "\n",
    "            )\n",
    "\n",
    "            model_trainer_configs.append(model_trainer_config)\n",
    "\n",
    "        return model_trainer_configs\n",
    "\n"
   ]
  },
  {
   "cell_type": "code",
   "execution_count": 7,
   "metadata": {},
   "outputs": [],
   "source": [
    "import os\n",
    "import pandas as pd\n",
    "from WineQuality import logger\n",
    "from sklearn.linear_model import Ridge, Lasso\n",
    "from sklearn.model_selection import GridSearchCV\n",
    "import json\n",
    "\n",
    "import pickle\n",
    "\n",
    "\n",
    "model_dict = {'Lasso': Lasso(random_state=42), 'Ridge': Ridge(random_state=42)}\n",
    "\n",
    "\n",
    "class ModelTrainer:\n",
    "    def __init__(self, config: ModelTrainerConfig):\n",
    "        self.config = config\n",
    "\n",
    "    def train_model(self):\n",
    "        train_data = pd.read_csv(self.config.train_data_path)\n",
    "        X = train_data.drop(columns=[self.config.target_column])\n",
    "        y = train_data[self.config.target_column]\n",
    "\n",
    "        model = model_dict[self.config.model_name]\n",
    "\n",
    "        logger.info(f\"Training {self.config.model_name} model\")\n",
    "\n",
    "        grid = GridSearchCV(estimator=model, param_grid=self.config.params_grid.params_grid, cv=5, n_jobs=-1)\n",
    "\n",
    "        grid.fit(X, y)\n",
    "\n",
    "        logger.info(f\"Best Score: {grid.best_score_}\")\n",
    "        logger.info(f\"Best Parameters: {grid.best_params_}\")\n",
    "\n",
    "        # Define paths\n",
    "        model_save_path = os.path.join(self.config.model_save_dir, self.config.model_name, f\"{self.config.model_name}.pkl\")\n",
    "        best_parameters_save_path = os.path.join(self.config.model_save_dir, self.config.model_name, f\"{self.config.model_name}_best_parameters.json\")\n",
    "\n",
    "        # Ensure the directories exist (fix: use os.path.dirname)\n",
    "        os.makedirs(os.path.dirname(model_save_path), exist_ok=True)\n",
    "\n",
    "        with open(model_save_path, 'wb') as f:\n",
    "            pickle.dump(grid.best_estimator_, f)\n",
    "\n",
    "        with open(best_parameters_save_path, 'w') as f:\n",
    "            json.dump(grid.best_params_, f)\n",
    "\n",
    "        logger.info(f\"Model saved at: {model_save_path}\")\n"
   ]
  },
  {
   "cell_type": "code",
   "execution_count": 8,
   "metadata": {},
   "outputs": [
    {
     "name": "stdout",
     "output_type": "stream",
     "text": [
      "[2025-03-22 20:29:14,411: INFO: common: yaml file: config/config.yaml loaded successfully]\n",
      "[2025-03-22 20:29:14,413: INFO: common: yaml file: params.yaml loaded successfully]\n",
      "[2025-03-22 20:29:14,415: INFO: common: yaml file: schema.yaml loaded successfully]\n",
      "[2025-03-22 20:29:14,415: INFO: common: created directory at: artifacts]\n",
      "[2025-03-22 20:29:14,416: INFO: common: created directory at: artifacts/model_trainer]\n",
      "[2025-03-22 20:29:14,420: INFO: 2999260193: Training Ridge model]\n",
      "[2025-03-22 20:29:16,017: INFO: 2999260193: Best Score: 0.3231663170787522]\n",
      "[2025-03-22 20:29:16,020: INFO: 2999260193: Best Parameters: {'alpha': 0.5}]\n",
      "[2025-03-22 20:29:16,025: INFO: 2999260193: Model saved at: artifacts/model_trainer/models/Ridge/Ridge.pkl]\n",
      "[2025-03-22 20:29:16,034: INFO: 2999260193: Training Lasso model]\n",
      "[2025-03-22 20:29:16,518: INFO: 2999260193: Best Score: 0.2211569723366204]\n",
      "[2025-03-22 20:29:16,519: INFO: 2999260193: Best Parameters: {'alpha': 0.1}]\n",
      "[2025-03-22 20:29:16,521: INFO: 2999260193: Model saved at: artifacts/model_trainer/models/Lasso/Lasso.pkl]\n"
     ]
    }
   ],
   "source": [
    "try:\n",
    "    config = ConfigurationManager()\n",
    "    model_trainer_configs = config.get_model_trainer_configs()\n",
    "    for model_trainer_config in model_trainer_configs:\n",
    "        model_trainer = ModelTrainer(model_trainer_config)\n",
    "        model_trainer.train_model()\n",
    "\n",
    "except Exception as e:\n",
    "    raise e"
   ]
  },
  {
   "cell_type": "code",
   "execution_count": null,
   "metadata": {},
   "outputs": [],
   "source": []
  }
 ],
 "metadata": {
  "kernelspec": {
   "display_name": "wine",
   "language": "python",
   "name": "python3"
  },
  "language_info": {
   "codemirror_mode": {
    "name": "ipython",
    "version": 3
   },
   "file_extension": ".py",
   "mimetype": "text/x-python",
   "name": "python",
   "nbconvert_exporter": "python",
   "pygments_lexer": "ipython3",
   "version": "3.10.16"
  }
 },
 "nbformat": 4,
 "nbformat_minor": 2
}
