{
 "cells": [
  {
   "cell_type": "code",
   "execution_count": 1,
   "metadata": {},
   "outputs": [],
   "source": [
    "import os"
   ]
  },
  {
   "cell_type": "code",
   "execution_count": 2,
   "metadata": {},
   "outputs": [],
   "source": [
    "os.chdir('../')"
   ]
  },
  {
   "cell_type": "code",
   "execution_count": 3,
   "metadata": {},
   "outputs": [
    {
     "data": {
      "text/plain": [
       "'/home/cloudcraftz/End-To-End-Wine-Quality'"
      ]
     },
     "execution_count": 3,
     "metadata": {},
     "output_type": "execute_result"
    }
   ],
   "source": [
    "pwd"
   ]
  },
  {
   "cell_type": "code",
   "execution_count": 4,
   "metadata": {},
   "outputs": [],
   "source": [
    "from dataclasses import dataclass\n",
    "from pathlib import Path\n",
    "\n",
    "\n",
    "@dataclass(frozen=True)\n",
    "class ModelEvaluationConfig():\n",
    "    root_dir: Path\n",
    "    model_name: str\n",
    "    train_data_path: Path\n",
    "    test_data_path: Path\n",
    "    model_path: Path\n",
    "    evaluation_save_dir: Path\n",
    "    target_column: str"
   ]
  },
  {
   "cell_type": "code",
   "execution_count": 5,
   "metadata": {},
   "outputs": [],
   "source": [
    "from WineQuality.constants import *\n",
    "from WineQuality.utils.common import read_yaml, create_directories"
   ]
  },
  {
   "cell_type": "code",
   "execution_count": 17,
   "metadata": {},
   "outputs": [],
   "source": [
    "class ConfigurationManager:\n",
    "    \n",
    "    def __init__(self,config_filepath = CONFIG_FILE_PATH,params_filepath = PARAMS_FILE_PATH,schema_filepath = SCHEMA_FILE_PATH):\n",
    "        \n",
    "        \n",
    "        self.config = read_yaml(config_filepath)\n",
    "        self.params = read_yaml(params_filepath)\n",
    "        self.schema = read_yaml(schema_filepath)\n",
    "\n",
    "        create_directories([self.config.artifacts_root])\n",
    "\n",
    "    def get_model_evaluation_configs(self) -> list[ModelEvaluationConfig]:\n",
    "\n",
    "        config = self.config.model_evaluation\n",
    "        params = self.params\n",
    "        schema = self.schema.TARGET_COLUMN\n",
    "\n",
    "        create_directories([config.root_dir])\n",
    "\n",
    "        model_evaluation_configs =[]\n",
    "\n",
    "        for model_name, params_grid in params.items():\n",
    "            model_evaluation_config = ModelEvaluationConfig(\n",
    "                root_dir= config.root_dir,\n",
    "                model_name= model_name,\n",
    "                train_data_path= config.train_data_path,\n",
    "                test_data_path= config.test_data_path,\n",
    "                model_path= os.path.join(config.model_path, f\"{model_name}/{model_name}.pkl\"),\n",
    "                target_column= schema.name,\n",
    "                evaluation_save_dir= config.evaluation_save_dir\n",
    "\n",
    "            )\n",
    "\n",
    "            model_evaluation_configs.append(model_evaluation_config)\n",
    "\n",
    "        return model_evaluation_configs\n",
    "\n"
   ]
  },
  {
   "cell_type": "code",
   "execution_count": 18,
   "metadata": {},
   "outputs": [
    {
     "name": "stdout",
     "output_type": "stream",
     "text": [
      "[2025-03-22 22:39:15,996: INFO: common: yaml file: config/config.yaml loaded successfully]\n",
      "[2025-03-22 22:39:15,998: INFO: common: yaml file: params.yaml loaded successfully]\n",
      "[2025-03-22 22:39:15,999: INFO: common: yaml file: schema.yaml loaded successfully]\n",
      "[2025-03-22 22:39:16,000: INFO: common: created directory at: artifacts]\n",
      "[2025-03-22 22:39:16,000: INFO: common: created directory at: artifacts/model_evaluation]\n"
     ]
    },
    {
     "data": {
      "text/plain": [
       "[ModelEvaluationConfig(root_dir='artifacts/model_evaluation', model_name='Ridge', train_data_path='artifacts/data_transformation/train.csv', test_data_path='artifacts/data_transformation/test.csv', model_path='artifacts/model_trainer/models/Ridge/Ridge.pkl', evaluation_save_dir='artifacts/model_evaluation/evaluation', target_column='quality'),\n",
       " ModelEvaluationConfig(root_dir='artifacts/model_evaluation', model_name='Lasso', train_data_path='artifacts/data_transformation/train.csv', test_data_path='artifacts/data_transformation/test.csv', model_path='artifacts/model_trainer/models/Lasso/Lasso.pkl', evaluation_save_dir='artifacts/model_evaluation/evaluation', target_column='quality')]"
      ]
     },
     "execution_count": 18,
     "metadata": {},
     "output_type": "execute_result"
    }
   ],
   "source": [
    "ConfigurationManager().get_model_evaluation_configs()"
   ]
  },
  {
   "cell_type": "code",
   "execution_count": 20,
   "metadata": {},
   "outputs": [],
   "source": [
    "import os\n",
    "import pandas as pd\n",
    "from WineQuality import logger\n",
    "import json\n",
    "from sklearn.metrics import mean_squared_error, mean_absolute_error, r2_score\n",
    "import pickle\n",
    "\n",
    "\n",
    "class ModelEvaluation:\n",
    "    def __init__(self, config: ModelEvaluationConfig):\n",
    "        self.config = config\n",
    "\n",
    "    def evaluate_model(self):\n",
    "        train_data = pd.read_csv(self.config.train_data_path)\n",
    "        test_data = pd.read_csv(self.config.test_data_path)\n",
    "\n",
    "        train_x = train_data.drop(columns=[self.config.target_column])\n",
    "        train_y = train_data[self.config.target_column]\n",
    "\n",
    "        test_x = test_data.drop(columns=[self.config.target_column])\n",
    "        test_y = test_data[self.config.target_column]\n",
    "\n",
    "        logger.info(f\"Evaluating {self.config.model_name} model\")\n",
    "\n",
    "        # Load the model\n",
    "        with open(self.config.model_path, \"rb\") as f:\n",
    "            trained_model = pickle.load(f)\n",
    "\n",
    "        y_pred_train = trained_model.predict(train_x)\n",
    "        y_pred_test = trained_model.predict(test_x)\n",
    "\n",
    "        train_metrics = self.calculate_metrics(train_y, y_pred_train)\n",
    "        test_metrics = self.calculate_metrics(test_y, y_pred_test)\n",
    "\n",
    "          # Define paths\n",
    "        train_metric_save_path = os.path.join(self.config.evaluation_save_dir, self.config.model_name, f\"{self.config.model_name}_train.json\")\n",
    "        test_metric_save_path = os.path.join(self.config.evaluation_save_dir, self.config.model_name, f\"{self.config.model_name}_test.json\")\n",
    "\n",
    "        # Ensure the directories exist (fix: use os.path.dirname)\n",
    "        os.makedirs(os.path.dirname(train_metric_save_path), exist_ok=True)\n",
    "        os.makedirs(os.path.dirname(test_metric_save_path), exist_ok=True)\n",
    "\n",
    "        with open(train_metric_save_path, 'w') as f:\n",
    "            json.dump(train_metrics, f)\n",
    "\n",
    "        with open(test_metric_save_path, 'w') as f:\n",
    "            json.dump(test_metrics, f)\n",
    "\n",
    "    def calculate_metrics(self, actual, predicted):\n",
    "\n",
    "        mse = mean_squared_error(actual, predicted)\n",
    "        mae = mean_absolute_error(actual, predicted)\n",
    "        r2 = r2_score(actual, predicted)\n",
    "\n",
    "        return {'MSE':mse,\n",
    "                'MAE':mae,\n",
    "                'R2':r2}\n",
    "\n",
    "        "
   ]
  },
  {
   "cell_type": "code",
   "execution_count": 21,
   "metadata": {},
   "outputs": [
    {
     "name": "stdout",
     "output_type": "stream",
     "text": [
      "[2025-03-22 22:41:38,979: INFO: common: yaml file: config/config.yaml loaded successfully]\n",
      "[2025-03-22 22:41:38,981: INFO: common: yaml file: params.yaml loaded successfully]\n",
      "[2025-03-22 22:41:38,982: INFO: common: yaml file: schema.yaml loaded successfully]\n",
      "[2025-03-22 22:41:38,983: INFO: common: created directory at: artifacts]\n",
      "[2025-03-22 22:41:38,983: INFO: common: created directory at: artifacts/model_evaluation]\n",
      "[2025-03-22 22:41:38,986: INFO: 3885688447: Evaluating Ridge model]\n",
      "[2025-03-22 22:41:38,997: INFO: 3885688447: Evaluating Lasso model]\n"
     ]
    }
   ],
   "source": [
    "try:\n",
    "    config = ConfigurationManager()\n",
    "    model_evaluation_configs = config.get_model_evaluation_configs()\n",
    "    for model_evaluation_config in model_evaluation_configs:\n",
    "        model_evaluatoin = ModelEvaluation(model_evaluation_config)\n",
    "        model_evaluatoin.evaluate_model()\n",
    "\n",
    "except Exception as e:\n",
    "    raise e"
   ]
  },
  {
   "cell_type": "code",
   "execution_count": null,
   "metadata": {},
   "outputs": [],
   "source": []
  }
 ],
 "metadata": {
  "kernelspec": {
   "display_name": "wine",
   "language": "python",
   "name": "python3"
  },
  "language_info": {
   "codemirror_mode": {
    "name": "ipython",
    "version": 3
   },
   "file_extension": ".py",
   "mimetype": "text/x-python",
   "name": "python",
   "nbconvert_exporter": "python",
   "pygments_lexer": "ipython3",
   "version": "3.10.16"
  }
 },
 "nbformat": 4,
 "nbformat_minor": 2
}
